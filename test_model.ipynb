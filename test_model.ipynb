{
 "cells": [
  {
   "cell_type": "code",
   "execution_count": 5,
   "metadata": {},
   "outputs": [
    {
     "name": "stdout",
     "output_type": "stream",
     "text": [
      "Model loaded from diabetes.pkl\n",
      "Predictions: [2]\n"
     ]
    }
   ],
   "source": [
    "import pandas as pd\n",
    "import joblib \n",
    "\n",
    "# Select the features\n",
    "features = ['HighBP', 'HighChol', 'BMI', 'DiffWalk', 'Sex', 'Age']\n",
    "\n",
    "# Load the saved model\n",
    "model_filename = 'diabetes.pkl'\n",
    "model = joblib.load(model_filename)\n",
    "print(f\"Model loaded from {model_filename}\")\n",
    "\n",
    "# Example: Define new data for prediction\n",
    "new_data = pd.DataFrame({\n",
    "    'HighBP': [1],\n",
    "    'HighChol': [1],\n",
    "    'BMI': [45],\n",
    "    'DiffWalk': [1],\n",
    "    'Sex': [1],\n",
    "    'Age': [50]\n",
    "})\n",
    "\n",
    "# Predict using the loaded model\n",
    "predictions = model.predict(new_data)\n",
    "\n",
    "# Print the predictions\n",
    "print(\"Predictions:\", predictions)\n"
   ]
  }
 ],
 "metadata": {
  "kernelspec": {
   "display_name": "Python 3",
   "language": "python",
   "name": "python3"
  },
  "language_info": {
   "codemirror_mode": {
    "name": "ipython",
    "version": 3
   },
   "file_extension": ".py",
   "mimetype": "text/x-python",
   "name": "python",
   "nbconvert_exporter": "python",
   "pygments_lexer": "ipython3",
   "version": "3.12.1"
  }
 },
 "nbformat": 4,
 "nbformat_minor": 2
}
